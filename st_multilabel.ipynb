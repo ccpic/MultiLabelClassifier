{
 "cells": [
  {
   "cell_type": "code",
   "execution_count": 16,
   "metadata": {},
   "outputs": [],
   "source": [
    "from simpletransformers.classification import (\r\n",
    "    MultiLabelClassificationModel, MultiLabelClassificationArgs\r\n",
    ")\r\n",
    "import pandas as pd\r\n",
    "import numpy\r\n",
    "import logging\r\n",
    "from sklearn.model_selection import train_test_split\r\n",
    "\r\n",
    "logging.basicConfig(level=logging.INFO)\r\n",
    "transformers_logger = logging.getLogger(\"transformers\")\r\n",
    "transformers_logger.setLevel(logging.WARNING)"
   ]
  },
  {
   "cell_type": "code",
   "execution_count": 30,
   "metadata": {},
   "outputs": [],
   "source": [
    "# 读取数据至pandas\r\n",
    "df = pd.read_excel(\"./data/信立泰 高血压-诊断定义.xlsx\")\r\n",
    "df.replace(r'[^\\u4e00-\\u9fa5]', \"\", regex=True, inplace=True) # 去除所有非中文\r\n",
    "df['原始诊断'].fillna(\"\", inplace=True)"
   ]
  },
  {
   "cell_type": "code",
   "execution_count": 42,
   "metadata": {},
   "outputs": [
    {
     "data": {
      "text/plain": "高血压     194\n冠心病     126\n糖尿病      54\n血脂异常     59\n卒中       42\n慢性肾病     55\n心力衰竭     27\n高尿酸      24\ndtype: int64"
     },
     "execution_count": 42,
     "metadata": {},
     "output_type": "execute_result"
    }
   ],
   "source": [
    "# 准备数据格式\r\n",
    "\r\n",
    "df_label = df[df[\"高血压\"].notna()] # Filter出打过标签的行\r\n",
    "train_df = pd.DataFrame()\r\n",
    "train_df['text'] = df_label['原始诊断']\r\n",
    "df_label = df_label.iloc[:,3:].astype(\"int\")\r\n",
    "train_df['labels'] = df_label.values.tolist() # 将多列标签数据转换为单列list\r\n",
    "df_label.sum()"
   ]
  },
  {
   "cell_type": "code",
   "execution_count": 19,
   "metadata": {},
   "outputs": [
    {
     "data": {
      "text/plain": "(                          text                    labels\n 93                          心悸  [0, 0, 0, 0, 0, 0, 0, 0]\n 23                     不稳定性心绞痛  [0, 1, 0, 0, 0, 0, 0, 0]\n 42081  头晕高血压病级极高危房性期前收缩房性早搏脑梗死  [1, 0, 0, 0, 1, 0, 0, 0]\n 13                     高血压高脂血症  [1, 0, 0, 1, 0, 0, 0, 0]\n 90                          胸闷  [0, 0, 0, 0, 0, 0, 0, 0]\n ...                        ...                       ...\n 4206        冠状动脉粥样硬化性心脏病原发性高血压  [1, 1, 0, 0, 0, 0, 0, 0]\n 72                         脑出血  [0, 0, 0, 0, 1, 0, 0, 0]\n 42178          慢性鼻炎高血压呼吸道感染关节炎  [1, 0, 0, 0, 0, 0, 0, 0]\n 884                   高血压病心房颤动  [1, 0, 0, 0, 0, 0, 0, 0]\n 37                        高血压级  [1, 0, 0, 0, 0, 0, 0, 0]\n \n [320 rows x 2 columns],\n                                  text                    labels\n 42180                 冠心病支架术后高血压房颤糖尿病  [1, 1, 1, 0, 0, 0, 0, 0]\n 125          肾移植术后高血压骨质疏松粒细胞减少贫血肝损害胃炎  [1, 0, 0, 0, 0, 1, 0, 0]\n 42110                    冠心病高血压病前列腺增生  [1, 1, 0, 0, 0, 0, 0, 0]\n 42121                        腹膜透析年度评估  [0, 0, 0, 1, 0, 1, 0, 0]\n 172                          高血压病很高危组  [1, 0, 0, 0, 0, 0, 0, 0]\n ...                               ...                       ...\n 42129  慢性肾衰竭肺部感染肾性高血压肾性骨病高血压病级很高危肾性贫血  [1, 0, 0, 0, 0, 1, 0, 0]\n 41                     偏瘫脑梗死高血压高血脂冠心病  [1, 1, 0, 1, 1, 0, 0, 0]\n 180                            脑梗塞后遗症  [0, 0, 0, 0, 1, 0, 0, 0]\n 132                            慢性心力衰竭  [0, 0, 0, 0, 0, 0, 1, 0]\n 555                           持续性心房颤动  [0, 0, 0, 0, 0, 0, 0, 0]\n \n [80 rows x 2 columns])"
     },
     "execution_count": 19,
     "metadata": {},
     "output_type": "execute_result"
    }
   ],
   "source": [
    "# 训练集和验证集分离\r\n",
    "train_df, eval_df = train_test_split(train_df, test_size=.2, random_state=1)\r\n",
    "train_df, eval_df"
   ]
  },
  {
   "cell_type": "code",
   "execution_count": 20,
   "metadata": {},
   "outputs": [],
   "source": [
    "# 准备模型可选参数\r\n",
    "model_args = MultiLabelClassificationArgs(num_train_epochs=50, overwrite_output_dir=True)"
   ]
  },
  {
   "cell_type": "code",
   "execution_count": 32,
   "metadata": {},
   "outputs": [],
   "source": [
    "# 根据预训练模型生成模型\r\n",
    "model = MultiLabelClassificationModel(\r\n",
    "    \"bert\", \"./outputs\", num_labels=8, args=model_args\r\n",
    ")"
   ]
  },
  {
   "cell_type": "code",
   "execution_count": null,
   "metadata": {},
   "outputs": [],
   "source": [
    "# 训练模型\r\n",
    "model.train_model(train_df)"
   ]
  },
  {
   "cell_type": "code",
   "execution_count": 33,
   "metadata": {},
   "outputs": [
    {
     "name": "stderr",
     "output_type": "stream",
     "text": [
      "INFO:simpletransformers.classification.classification_utils: Converting to features started. Cache is not used.\n",
      "INFO:simpletransformers.classification.classification_utils: Saving features into cached file cache_dir/cached_dev_bert_128_0_80\n",
      "Running Evaluation: 100%|██████████| 10/10 [00:00<00:00, 40.29it/s]\n"
     ]
    },
    {
     "data": {
      "text/plain": "{'LRAP': 0.9655208333333333, 'eval_loss': 0.13957007676362992}"
     },
     "execution_count": 33,
     "metadata": {},
     "output_type": "execute_result"
    }
   ],
   "source": [
    "# 验证模型\r\n",
    "result, model_outputs, wrong_predictions = model.eval_model(\r\n",
    "    eval_df\r\n",
    ")\r\n",
    "result\r\n"
   ]
  },
  {
   "cell_type": "code",
   "execution_count": 43,
   "metadata": {},
   "outputs": [
    {
     "name": "stderr",
     "output_type": "stream",
     "text": [
      "INFO:simpletransformers.classification.classification_utils: Converting to features started. Cache is not used.\n",
      "INFO:simpletransformers.classification.classification_utils: Saving features into cached file cache_dir/cached_dev_bert_128_0_10\n",
      "100%|██████████| 2/2 [00:00<00:00, 37.84it/s]\n"
     ]
    },
    {
     "data": {
      "text/plain": "(['便秘反流性食管炎高血压关节痛过敏性鼻炎变应性鼻炎消化性溃疡行动不便动脉粥样硬化并高脂血症高胆固醇血症冠心病失眠',\n  '糖尿病慢性病高血压慢性病胸痛',\n  '高甘油三酯血症高尿酸血症高血压肾炎',\n  '慢性心功能不全居民',\n  '二尖瓣疾病',\n  '冠心病高血压便秘',\n  '动脉粥样硬化并高脂血症高血压颈动脉狭窄麻木脑供血不全头晕晕动症',\n  '高血压病前列腺增生骨痛高脂血症高血压',\n  '腕和手损伤',\n  '冠状动脉粥样硬化性心脏病型糖尿病伴有并发症'],\n    高血压  冠心病  糖尿病  血脂异常   卒中  慢性肾病  心力衰竭  高尿酸\n 0  高血压  冠心病  NaN  血脂异常  NaN   NaN   NaN  NaN\n 1  高血压  NaN  糖尿病   NaN  NaN   NaN   NaN  NaN\n 2  高血压  NaN  NaN  血脂异常  NaN   NaN   NaN  高尿酸\n 3  NaN  冠心病  NaN   NaN  NaN   NaN   NaN  NaN\n 4  NaN  NaN  NaN   NaN  NaN   NaN   NaN  NaN\n 5  高血压  冠心病  NaN   NaN  NaN   NaN   NaN  NaN\n 6  高血压  冠心病  NaN  血脂异常   卒中   NaN   NaN  NaN\n 7  高血压  NaN  NaN  血脂异常  NaN   NaN   NaN  NaN\n 8  NaN  NaN  NaN   NaN  NaN   NaN   NaN  NaN\n 9  NaN  冠心病  糖尿病   NaN  NaN   NaN   NaN  NaN)"
     },
     "execution_count": 49,
     "metadata": {},
     "output_type": "execute_result"
    }
   ],
   "source": [
    "# 使用模型进行预测\r\n",
    "df_nolabel = df[~df[\"高血压\"].notna()] #  没有人为标签过的数据\r\n",
    "pred_text = df_nolabel[\"原始诊断\"].sample(n=10).values.tolist()  #  随机抽取10条数据的原始诊断字段\r\n",
    "predictions, raw_outputs = model.predict(pred_text)\r\n",
    "\r\n",
    "labels = df_label.columns.values.tolist()\r\n",
    "for pred in predictions:\r\n",
    "    for i in range(len(pred)):\r\n",
    "        if pred[i] == 1:\r\n",
    "            pred[i] = labels[i]\r\n",
    "\r\n",
    "pred_text, predictions"
   ]
  },
  {
   "cell_type": "code",
   "execution_count": null,
   "metadata": {},
   "outputs": [],
   "source": [
    "# 使用模型进行原始数据所有的预测\r\n",
    "list_info = []\r\n",
    "list_pred = []\r\n",
    "labels = df_label.columns.values.tolist()\r\n",
    "for index, row in df.head(1000).iterrows():\r\n",
    "    pred_text=row[\"原始诊断\"]\r\n",
    "    if pd.isna((pred_text)): # 如果原始诊断为na则标签均为0\r\n",
    "        list_pred.append([0] *8)\r\n",
    "    elif pd.isna(row['高血压']): # 如果没有人为标记的条目使用模型预测\r\n",
    "        predictions, raw_outputs = model.predict([pred_text])\r\n",
    "        list_pred.append(predictions[0])\r\n",
    "    else: # 反之，则保留原人为标记结果\r\n",
    "        list_pred.append(row[3:].tolist())\r\n",
    "    list_info.append(row[:3])\r\n",
    "\r\n",
    "df_pred = pd.DataFrame(list_pred,columns=labels)\r\n",
    "df_info = pd.DataFrame(list_info,columns=[\"序号\",\"原始诊断\",\"处方张数\"])\r\n",
    "df_combined = pd.concat([df_info, df_pred], axis=1)\r\n",
    "df_combined"
   ]
  },
  {
   "cell_type": "code",
   "execution_count": null,
   "metadata": {},
   "outputs": [],
   "source": [
    "# 将模型预测应用到所有数据\r\n",
    "\r\n",
    "pred_text = df[\"原始诊断\"].values.tolist()  \r\n",
    "predictions, raw_outputs = model.predict(pred_text)\r\n",
    "pred_text, predictions"
   ]
  },
  {
   "cell_type": "code",
   "execution_count": 41,
   "metadata": {},
   "outputs": [
    {
     "data": {
      "text/html": "<div>\n<style scoped>\n    .dataframe tbody tr th:only-of-type {\n        vertical-align: middle;\n    }\n\n    .dataframe tbody tr th {\n        vertical-align: top;\n    }\n\n    .dataframe thead th {\n        text-align: right;\n    }\n</style>\n<table border=\"1\" class=\"dataframe\">\n  <thead>\n    <tr style=\"text-align: right;\">\n      <th></th>\n      <th>序号</th>\n      <th>原始诊断</th>\n      <th>处方张数</th>\n      <th>高血压</th>\n      <th>冠心病</th>\n      <th>糖尿病</th>\n      <th>血脂异常</th>\n      <th>卒中</th>\n      <th>慢性肾病</th>\n      <th>心力衰竭</th>\n      <th>高尿酸</th>\n    </tr>\n  </thead>\n  <tbody>\n    <tr>\n      <th>0</th>\n      <td>1</td>\n      <td>高血压</td>\n      <td>81364</td>\n      <td>1</td>\n      <td>0</td>\n      <td>0</td>\n      <td>0</td>\n      <td>0</td>\n      <td>0</td>\n      <td>0</td>\n      <td>0</td>\n    </tr>\n    <tr>\n      <th>1</th>\n      <td>2</td>\n      <td>无诊断</td>\n      <td>57580</td>\n      <td>0</td>\n      <td>0</td>\n      <td>0</td>\n      <td>0</td>\n      <td>0</td>\n      <td>0</td>\n      <td>0</td>\n      <td>0</td>\n    </tr>\n    <tr>\n      <th>2</th>\n      <td>3</td>\n      <td>高血压病</td>\n      <td>31515</td>\n      <td>1</td>\n      <td>0</td>\n      <td>0</td>\n      <td>0</td>\n      <td>0</td>\n      <td>0</td>\n      <td>0</td>\n      <td>0</td>\n    </tr>\n    <tr>\n      <th>3</th>\n      <td>4</td>\n      <td>冠状动脉粥样硬化性心脏病</td>\n      <td>26092</td>\n      <td>0</td>\n      <td>1</td>\n      <td>0</td>\n      <td>0</td>\n      <td>0</td>\n      <td>0</td>\n      <td>0</td>\n      <td>0</td>\n    </tr>\n    <tr>\n      <th>4</th>\n      <td>5</td>\n      <td>冠心病</td>\n      <td>8964</td>\n      <td>1</td>\n      <td>0</td>\n      <td>0</td>\n      <td>0</td>\n      <td>0</td>\n      <td>0</td>\n      <td>0</td>\n      <td>0</td>\n    </tr>\n    <tr>\n      <th>...</th>\n      <td>...</td>\n      <td>...</td>\n      <td>...</td>\n      <td>...</td>\n      <td>...</td>\n      <td>...</td>\n      <td>...</td>\n      <td>...</td>\n      <td>...</td>\n      <td>...</td>\n      <td>...</td>\n    </tr>\n    <tr>\n      <th>183247</th>\n      <td>123601</td>\n      <td>房缺高血压</td>\n      <td>1</td>\n      <td>1</td>\n      <td>0</td>\n      <td>0</td>\n      <td>0</td>\n      <td>0</td>\n      <td>0</td>\n      <td>0</td>\n      <td>0</td>\n    </tr>\n    <tr>\n      <th>183248</th>\n      <td>176201</td>\n      <td>咳嗽脑动脉血栓形成引起的脑梗死</td>\n      <td>1</td>\n      <td>0</td>\n      <td>0</td>\n      <td>0</td>\n      <td>0</td>\n      <td>1</td>\n      <td>0</td>\n      <td>0</td>\n      <td>0</td>\n    </tr>\n    <tr>\n      <th>183249</th>\n      <td>119590</td>\n      <td>动脉粥样硬化并高脂血症反复发作低血糖高血压冠心病糖尿病硒缺乏叶酸缺乏</td>\n      <td>1</td>\n      <td>1</td>\n      <td>1</td>\n      <td>1</td>\n      <td>1</td>\n      <td>0</td>\n      <td>0</td>\n      <td>0</td>\n      <td>0</td>\n    </tr>\n    <tr>\n      <th>183250</th>\n      <td>108127</td>\n      <td>冠状动脉粥样硬化性心脏病不稳定型心绞痛慢性支气管炎急性加重期重症肺炎型呼吸衰竭肺栓塞</td>\n      <td>1</td>\n      <td>0</td>\n      <td>1</td>\n      <td>0</td>\n      <td>0</td>\n      <td>0</td>\n      <td>0</td>\n      <td>1</td>\n      <td>0</td>\n    </tr>\n    <tr>\n      <th>183251</th>\n      <td>88137</td>\n      <td>认知功能障碍脑血管病高血压</td>\n      <td>1</td>\n      <td>1</td>\n      <td>0</td>\n      <td>0</td>\n      <td>0</td>\n      <td>1</td>\n      <td>0</td>\n      <td>0</td>\n      <td>0</td>\n    </tr>\n  </tbody>\n</table>\n<p>183252 rows × 11 columns</p>\n</div>",
      "text/plain": "            序号                                        原始诊断   处方张数  高血压  冠心病  \\\n0            1                                         高血压  81364    1    0   \n1            2                                         无诊断  57580    0    0   \n2            3                                        高血压病  31515    1    0   \n3            4                                冠状动脉粥样硬化性心脏病  26092    0    1   \n4            5                                         冠心病   8964    1    0   \n...        ...                                         ...    ...  ...  ...   \n183247  123601                                       房缺高血压      1    1    0   \n183248  176201                             咳嗽脑动脉血栓形成引起的脑梗死      1    0    0   \n183249  119590          动脉粥样硬化并高脂血症反复发作低血糖高血压冠心病糖尿病硒缺乏叶酸缺乏      1    1    1   \n183250  108127  冠状动脉粥样硬化性心脏病不稳定型心绞痛慢性支气管炎急性加重期重症肺炎型呼吸衰竭肺栓塞      1    0    1   \n183251   88137                               认知功能障碍脑血管病高血压      1    1    0   \n\n        糖尿病  血脂异常  卒中  慢性肾病  心力衰竭  高尿酸  \n0         0     0   0     0     0    0  \n1         0     0   0     0     0    0  \n2         0     0   0     0     0    0  \n3         0     0   0     0     0    0  \n4         0     0   0     0     0    0  \n...     ...   ...  ..   ...   ...  ...  \n183247    0     0   0     0     0    0  \n183248    0     0   1     0     0    0  \n183249    1     1   0     0     0    0  \n183250    0     0   0     0     1    0  \n183251    0     0   1     0     0    0  \n\n[183252 rows x 11 columns]"
     },
     "execution_count": 41,
     "metadata": {},
     "output_type": "execute_result"
    }
   ],
   "source": [
    "labels = df_label.columns.values.tolist()\r\n",
    "df_info = df.iloc[:,:3]\r\n",
    "df_pred = pd.DataFrame(predictions, columns=labels)\r\n",
    "df_combined = pd.concat([df_info, df_pred], axis=1)\r\n",
    "df_combined.to_csv(\"./labeled_data.csv\", index=False, encoding=\"utf_8_sig\")\r\n",
    "df_combined"
   ]
  }
 ],
 "metadata": {
  "kernelspec": {
   "display_name": "Python 3.7.9 64-bit ('venv37')",
   "metadata": {
    "interpreter": {
     "hash": "3f00315cdb0b39b900f3f5bdb597d7cc87fc2cf7cf9a7677a4489dfaece1d896"
    }
   },
   "name": "python3"
  },
  "language_info": {
   "codemirror_mode": {
    "name": "ipython",
    "version": 3
   },
   "file_extension": ".py",
   "mimetype": "text/x-python",
   "name": "python",
   "nbconvert_exporter": "python",
   "pygments_lexer": "ipython3",
   "version": "3.7.9"
  },
  "orig_nbformat": 2
 },
 "nbformat": 4,
 "nbformat_minor": 2
}