{
 "cells": [
  {
   "cell_type": "code",
   "execution_count": 2,
   "metadata": {},
   "outputs": [],
   "source": [
    "from simpletransformers.classification import ClassificationModel\r\n",
    "import pandas as pd\r\n",
    "import smart_open\r\n",
    "import numpy as np \r\n",
    "from sklearn import preprocessing"
   ]
  },
  {
   "cell_type": "code",
   "execution_count": 3,
   "metadata": {},
   "outputs": [],
   "source": [
    "data1 = open('./data/train_data.word.ed',encoding='utf-8').readlines()\r\n",
    "data2 = open('./data/val_data.word.ed',encoding='utf-8').readlines()"
   ]
  },
  {
   "cell_type": "code",
   "execution_count": 4,
   "metadata": {},
   "outputs": [],
   "source": [
    "split_data1 = [i.split(r'\\t') for i  in data1]\r\n",
    "labels1 = [i[0] for i in split_data1]\r\n",
    "text1 = [i[1] for i in split_data1]\r\n",
    "\r\n",
    "split_data2 = [i.split(r'\\t') for i  in data2]\r\n",
    "labels2 = [i[0] for i in split_data2]\r\n",
    "text2 = [i[1] for i in split_data2]"
   ]
  },
  {
   "cell_type": "code",
   "execution_count": 5,
   "metadata": {},
   "outputs": [],
   "source": [
    "train_df = pd.DataFrame([i,j] for i,j in zip(labels1,text1))\r\n",
    "eval_df = pd.DataFrame([i,j] for i,j in zip(labels2,text2))"
   ]
  },
  {
   "cell_type": "code",
   "execution_count": 6,
   "metadata": {},
   "outputs": [
    {
     "data": {
      "text/plain": "0          society\n1            world\n2    entertainment\n3              car\n4             baby\n5           sports\n6             tech\n7          society\n8         military\n9    entertainment\nName: 0, dtype: object"
     },
     "execution_count": 6,
     "metadata": {},
     "output_type": "execute_result"
    }
   ],
   "source": [
    "train_df[0][:10]"
   ]
  },
  {
   "cell_type": "code",
   "execution_count": 7,
   "metadata": {},
   "outputs": [
    {
     "name": "stdout",
     "output_type": "stream",
     "text": [
      "标签值标准化:[17  3  1  0  3]\n",
      "标准化标签值反转:['baby' 'discovery' 'baby' 'car' 'discovery']\n"
     ]
    }
   ],
   "source": [
    "le = preprocessing.LabelEncoder() \r\n",
    "le.fit(np.unique(train_df[0].tolist()))\r\n",
    "print('标签值标准化:%s' % le.transform([\"world\", \"entertainment\", \"car\", \"baby\",\"entertainment\"]))\r\n",
    "print('标准化标签值反转:%s' % le.inverse_transform([0, 2 ,0 ,1 ,2]))"
   ]
  },
  {
   "cell_type": "code",
   "execution_count": 8,
   "metadata": {},
   "outputs": [],
   "source": [
    "train_df[2] = train_df[0].apply(lambda x:le.transform([x])[0])\r\n",
    "eval_df[2] = eval_df[0].apply(lambda x:le.transform([x])[0])\r\n",
    "\r\n",
    "del train_df[0]\r\n",
    "del eval_df[0]"
   ]
  },
  {
   "cell_type": "code",
   "execution_count": 9,
   "metadata": {},
   "outputs": [
    {
     "data": {
      "text/plain": "18"
     },
     "execution_count": 9,
     "metadata": {},
     "output_type": "execute_result"
    }
   ],
   "source": [
    "num_labels =len(np.unique(train_df[2].tolist()))\r\n",
    "num_labels"
   ]
  },
  {
   "cell_type": "code",
   "execution_count": 10,
   "metadata": {},
   "outputs": [],
   "source": [
    "train_df.to_csv('train_data.csv',header=False,sep='\\t',index = False)\r\n",
    "eval_df.to_csv('test_data.csv',header=False,sep='\\t',index = False)"
   ]
  },
  {
   "cell_type": "code",
   "execution_count": 11,
   "metadata": {},
   "outputs": [
    {
     "data": {
      "text/html": "<div>\n<style scoped>\n    .dataframe tbody tr th:only-of-type {\n        vertical-align: middle;\n    }\n\n    .dataframe tbody tr th {\n        vertical-align: top;\n    }\n\n    .dataframe thead th {\n        text-align: right;\n    }\n</style>\n<table border=\"1\" class=\"dataframe\">\n  <thead>\n    <tr style=\"text-align: right;\">\n      <th></th>\n      <th>1</th>\n      <th>2</th>\n    </tr>\n  </thead>\n  <tbody>\n    <tr>\n      <th>0</th>\n      <td>陆家嘴 不 雅 视频 曝光 ： 系恶 “ 性 ” 营销 ？\\n</td>\n      <td>12</td>\n    </tr>\n    <tr>\n      <th>1</th>\n      <td>日本 冲绳 民众 举行 大规模 抗美 集会 活动 冲绳 县知事 : 希望 改变 政治 结构\\n</td>\n      <td>17</td>\n    </tr>\n    <tr>\n      <th>2</th>\n      <td>林心如 全黑 连体 装 现身 ， 被 赞比 模特 身材 更好\\n</td>\n      <td>3</td>\n    </tr>\n    <tr>\n      <th>3</th>\n      <td>别克 逆 生长 实验 型\\n</td>\n      <td>1</td>\n    </tr>\n    <tr>\n      <th>4</th>\n      <td>你 的 宝宝 到底 需不需要 补锌 ？ 又 该 如何 补充 ？ （ 内附 补锌 食谱 ）\\n</td>\n      <td>0</td>\n    </tr>\n  </tbody>\n</table>\n</div>",
      "text/plain": "                                                 1   2\n0                  陆家嘴 不 雅 视频 曝光 ： 系恶 “ 性 ” 营销 ？\\n  12\n1  日本 冲绳 民众 举行 大规模 抗美 集会 活动 冲绳 县知事 : 希望 改变 政治 结构\\n  17\n2                 林心如 全黑 连体 装 现身 ， 被 赞比 模特 身材 更好\\n   3\n3                                   别克 逆 生长 实验 型\\n   1\n4   你 的 宝宝 到底 需不需要 补锌 ？ 又 该 如何 补充 ？ （ 内附 补锌 食谱 ）\\n   0"
     },
     "execution_count": 11,
     "metadata": {},
     "output_type": "execute_result"
    }
   ],
   "source": [
    "train_df.head()"
   ]
  },
  {
   "cell_type": "code",
   "execution_count": 12,
   "metadata": {},
   "outputs": [
    {
     "name": "stdout",
     "output_type": "stream",
     "text": [
      "<class 'pandas.core.frame.DataFrame'>\n",
      "RangeIndex: 47784 entries, 0 to 47783\n",
      "Data columns (total 2 columns):\n",
      " #   Column  Non-Null Count  Dtype \n",
      "---  ------  --------------  ----- \n",
      " 0   1       47784 non-null  object\n",
      " 1   2       47784 non-null  int64 \n",
      "dtypes: int64(1), object(1)\n",
      "memory usage: 746.8+ KB\n"
     ]
    }
   ],
   "source": [
    "eval_df.info()"
   ]
  },
  {
   "cell_type": "code",
   "execution_count": 13,
   "metadata": {},
   "outputs": [],
   "source": [
    "# model = ClassificationModel(\r\n",
    "#     \"bert\", \"./data/chinese_wwm_ext_pytorch\",\r\n",
    "#     num_labels=num_labels, \r\n",
    "#     args={\"reprocess_input_data\": True,   # 对输入数据进行预处理\r\n",
    "#           \"overwrite_output_dir\": True}   # 可覆盖输出文件夹\r\n",
    "#     )\r\n",
    "model = ClassificationModel(\"bert\", \"./outputs/checkpoint-41812-epoch-1\")"
   ]
  },
  {
   "cell_type": "code",
   "execution_count": 14,
   "metadata": {},
   "outputs": [
    {
     "name": "stderr",
     "output_type": "stream",
     "text": [
      "100%|██████████| 29/29 [00:14<00:00,  2.01it/s]\n",
      "Epoch: 100%|██████████| 1/1 [00:00<00:00, 501.29it/s] \n"
     ]
    },
    {
     "data": {
      "text/plain": "(41812, 0.0)"
     },
     "execution_count": 14,
     "metadata": {},
     "output_type": "execute_result"
    }
   ],
   "source": [
    "# 开始模型训练\r\n",
    "# 许多应用都会得益于使用半精度来储存数据，然后用32位的单精度来处理这些数据。高级的GPU将会全面支持这种“混合精度”的计算，使用FP16计算将会获得比FP32和FP64更高的吞吐量，提高训练速度，但是在windows的环境下很难安装。。。\r\n",
    "model.train_model(train_df,args = {'fp16':False})"
   ]
  },
  {
   "cell_type": "code",
   "execution_count": 15,
   "metadata": {},
   "outputs": [
    {
     "name": "stderr",
     "output_type": "stream",
     "text": [
      "Running Evaluation: 100%|██████████| 5973/5973 [04:08<00:00, 24.05it/s]\n"
     ]
    }
   ],
   "source": [
    "# 评测模型\r\n",
    "import sklearn\r\n",
    "result, model_outputs, wrong_predictions = model.eval_model(eval_df, acc=sklearn.metrics.accuracy_score,\r\n",
    "                                                            #f1 = sklearn.metrics.f1_score\r\n",
    "                                                           )"
   ]
  },
  {
   "cell_type": "code",
   "execution_count": 16,
   "metadata": {},
   "outputs": [
    {
     "name": "stdout",
     "output_type": "stream",
     "text": [
      "{'mcc': 0.8366276825210569, 'acc': 0.8527540599363804, 'eval_loss': 0.4950253406088009}\n"
     ]
    }
   ],
   "source": [
    "print(result)"
   ]
  },
  {
   "cell_type": "code",
   "execution_count": 19,
   "metadata": {},
   "outputs": [
    {
     "name": "stderr",
     "output_type": "stream",
     "text": [
      "100%|██████████| 1/1 [00:00<00:00, 16.99it/s]\n"
     ]
    }
   ],
   "source": [
    "predictions, raw_outputs = model.predict([\"卡舒吉案“最高机密”文件披露，杀手与沙特王储有关 \",\r\n",
    "                                            \"农心杯申真谞屠龙豪取四连胜 柯洁明日登场攻擂\",\r\n",
    "                                            \"CentOS 退出江湖，服务器操作系统该选择 Debian 还是 Ubuntu？\",\r\n",
    "                                            \"比特币带“疯”电脑显卡！商家：找我买卡的十有六七为挖矿\",\r\n",
    "                                            \"一白遮百丑？咖啡系女明星请把身体还给自己\",\r\n",
    "                                            \"高血压,冠状动脉粥样硬化性心脏病,高脂血症\",\r\n",
    "                                            \"新能源汽车人才有机会落户上海\"\r\n",
    "                                          ])"
   ]
  },
  {
   "cell_type": "code",
   "execution_count": 21,
   "metadata": {},
   "outputs": [
    {
     "data": {
      "text/plain": "array(['world', 'sports', 'tech', 'tech', 'entertainment', 'regimen',\n       'car'], dtype='<U13')"
     },
     "execution_count": 21,
     "metadata": {},
     "output_type": "execute_result"
    }
   ],
   "source": [
    "labels = le.inverse_transform(predictions)\r\n",
    "labels "
   ]
  }
 ],
 "metadata": {
  "kernelspec": {
   "display_name": "Python 3.7.9 64-bit ('venv37')",
   "metadata": {
    "interpreter": {
     "hash": "3f00315cdb0b39b900f3f5bdb597d7cc87fc2cf7cf9a7677a4489dfaece1d896"
    }
   },
   "name": "python3"
  },
  "language_info": {
   "codemirror_mode": {
    "name": "ipython",
    "version": 3
   },
   "file_extension": ".py",
   "mimetype": "text/x-python",
   "name": "python",
   "nbconvert_exporter": "python",
   "pygments_lexer": "ipython3",
   "version": "3.7.9"
  },
  "orig_nbformat": 2
 },
 "nbformat": 4,
 "nbformat_minor": 2
}