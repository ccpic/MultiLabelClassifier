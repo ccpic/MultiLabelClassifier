{
 "cells": [
  {
   "cell_type": "code",
   "execution_count": 35,
   "metadata": {},
   "outputs": [],
   "source": [
    "import pandas as pd\r\n",
    "import numpy as np\r\n",
    "from dataclass import Rx\r\n",
    "\r\n",
    "df = pd.read_excel(\"./data - 副本.xlsx\")"
   ]
  },
  {
   "cell_type": "code",
   "execution_count": 36,
   "metadata": {},
   "outputs": [],
   "source": [
    "mask = (df[\"原始诊断\"]!=\"无诊断\") & (df[\"统计项\"]==\"标准片数\") & (df[\"来源\"] == \"门诊\") & (df[\"关注科室\"].isin([\"肾内科\"]))\r\n",
    "df2 = df.loc[mask,:]\r\n",
    "r = Rx(df2, name=\"门诊心内科标准片数\")"
   ]
  },
  {
   "cell_type": "code",
   "execution_count": 13,
   "metadata": {},
   "outputs": [
    {
     "name": "stderr",
     "output_type": "stream",
     "text": [
      "c:\\Users\\chencheng\\PycharmProjects\\MultiLabelClassifier\\dataclass.py:108: UserWarning: Pandas doesn't allow columns to be created via a new attribute name - see https://pandas.pydata.org/pandas-docs/stable/indexing.html#attribute-access\n",
      "  self.labels = labels\n"
     ]
    }
   ],
   "source": [
    "r.get_undup_cbns().to_clipboard()"
   ]
  },
  {
   "cell_type": "code",
   "execution_count": 18,
   "metadata": {},
   "outputs": [],
   "source": [
    "r.get_undup_cbns_groupby(\"关注科室\").to_clipboard()"
   ]
  },
  {
   "cell_type": "code",
   "execution_count": 19,
   "metadata": {},
   "outputs": [],
   "source": [
    "r.get_undup_cbns_groupby(\"通用名\").to_clipboard()"
   ]
  },
  {
   "cell_type": "code",
   "execution_count": 32,
   "metadata": {},
   "outputs": [],
   "source": [
    "r.get_undup_cbns_groupby(\"商品名\").to_clipboard()"
   ]
  },
  {
   "cell_type": "code",
   "execution_count": 20,
   "metadata": {},
   "outputs": [],
   "source": [
    "r.get_dup_cbns().to_clipboard()"
   ]
  },
  {
   "cell_type": "code",
   "execution_count": 21,
   "metadata": {},
   "outputs": [],
   "source": [
    "r.get_dup_cbns_groupby(\"关注科室\").to_clipboard()"
   ]
  },
  {
   "cell_type": "code",
   "execution_count": 23,
   "metadata": {},
   "outputs": [],
   "source": [
    "r.get_dup_cbns_groupby(\"通用名\").to_clipboard()"
   ]
  },
  {
   "cell_type": "code",
   "execution_count": 33,
   "metadata": {},
   "outputs": [],
   "source": [
    "r.get_dup_cbns_groupby(\"商品名\").to_clipboard()"
   ]
  },
  {
   "cell_type": "code",
   "execution_count": 24,
   "metadata": {},
   "outputs": [],
   "source": [
    "r.get_cbns_len().to_clipboard()"
   ]
  },
  {
   "cell_type": "code",
   "execution_count": 25,
   "metadata": {},
   "outputs": [],
   "source": [
    "r.get_cbns_len_groupby(\"关注科室\").to_clipboard()"
   ]
  },
  {
   "cell_type": "code",
   "execution_count": 26,
   "metadata": {},
   "outputs": [],
   "source": [
    "r.get_cbns_len_groupby(\"通用名\").to_clipboard()"
   ]
  },
  {
   "cell_type": "code",
   "execution_count": 34,
   "metadata": {},
   "outputs": [],
   "source": [
    "r.get_cbns_len_groupby(\"商品名\").to_clipboard()"
   ]
  },
  {
   "cell_type": "code",
   "execution_count": 20,
   "metadata": {},
   "outputs": [
    {
     "name": "stdout",
     "output_type": "stream",
     "text": [
      "(0.7873439007240222, 0.0013108607109764267, 0.0034821186190476423) [0.7908260193430698, 0.004792979330024069]\n",
      "('高血压', '慢性肾病')\n"
     ]
    },
    {
     "data": {
      "image/png": "[encoded data removed]",
      "text/plain": "<Figure size 360x360 with 1 Axes>"
     },
     "metadata": {},
     "output_type": "display_data"
    }
   ],
   "source": [
    "from itertools import combinations\r\n",
    "\r\n",
    "r.plot_venn(('高血压', \"慢性肾病\"))\r\n",
    "# labels = df.columns[-8:]\r\n",
    "# set2 = combinations(labels, 2)\r\n",
    "\r\n",
    "# for set in set2:\r\n",
    "#     plot_venn(set)"
   ]
  },
  {
   "cell_type": "code",
   "execution_count": 37,
   "metadata": {},
   "outputs": [
    {
     "name": "stderr",
     "output_type": "stream",
     "text": [
      "c:\\Users\\chencheng\\PycharmProjects\\MultiLabelClassifier\\dataclass.py:43: SettingWithCopyWarning: \n",
      "A value is trying to be set on a copy of a slice from a DataFrame\n",
      "\n",
      "See the caveats in the documentation: https://pandas.pydata.org/pandas-docs/stable/user_guide/indexing.html#returning-a-view-versus-a-copy\n",
      "  df.sort_values(df.columns[0], ascending=False, inplace=True)\n",
      "c:\\Users\\chencheng\\PycharmProjects\\MultiLabelClassifier\\venv37\\lib\\site-packages\\pandas\\core\\frame.py:4465: SettingWithCopyWarning: \n",
      "A value is trying to be set on a copy of a slice from a DataFrame\n",
      "\n",
      "See the caveats in the documentation: https://pandas.pydata.org/pandas-docs/stable/user_guide/indexing.html#returning-a-view-versus-a-copy\n",
      "  downcast=downcast,\n"
     ]
    },
    {
     "name": "stdout",
     "output_type": "stream",
     "text": [
      "./plots/通用名适应症贡献占比.png has been saved...\n"
     ]
    },
    {
     "name": "stderr",
     "output_type": "stream",
     "text": [
      "c:\\Users\\chencheng\\PycharmProjects\\MultiLabelClassifier\\dataclass.py:108: UserWarning: Pandas doesn't allow columns to be created via a new attribute name - see https://pandas.pydata.org/pandas-docs/stable/indexing.html#attribute-access\n",
      "  self.labels = labels\n",
      "c:\\Users\\chencheng\\PycharmProjects\\MultiLabelClassifier\\dataclass.py:108: UserWarning: Pandas doesn't allow columns to be created via a new attribute name - see https://pandas.pydata.org/pandas-docs/stable/indexing.html#attribute-access\n",
      "  self.labels = labels\n"
     ]
    },
    {
     "name": "stdout",
     "output_type": "stream",
     "text": [
      "./plots/通用名高血压合并贡献占比.png has been saved...\n"
     ]
    }
   ],
   "source": [
    "r.plot_barh(\"通用名\")"
   ]
  }
 ],
 "metadata": {
  "kernelspec": {
   "display_name": "Python 3.7.9 64-bit ('venv37')",
   "metadata": {
    "interpreter": {
     "hash": "3f00315cdb0b39b900f3f5bdb597d7cc87fc2cf7cf9a7677a4489dfaece1d896"
    }
   },
   "name": "python3"
  },
  "language_info": {
   "codemirror_mode": {
    "name": "ipython",
    "version": 3
   },
   "file_extension": ".py",
   "mimetype": "text/x-python",
   "name": "python",
   "nbconvert_exporter": "python",
   "pygments_lexer": "ipython3",
   "version": "3.7.9"
  },
  "orig_nbformat": 2
 },
 "nbformat": 4,
 "nbformat_minor": 2
}